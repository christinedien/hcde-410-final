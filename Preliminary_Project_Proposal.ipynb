{
 "cells": [
  {
   "cell_type": "markdown",
   "id": "cbf887d8-981f-4b59-8d68-9bb8d0d9dee5",
   "metadata": {},
   "source": [
    "# Preliminary Project Proposal"
   ]
  },
  {
   "cell_type": "markdown",
   "id": "c7c01d4c-b06d-4027-88cc-c7f7a04c114a",
   "metadata": {},
   "source": [
    "\n",
    "\n",
    "## Motivation and problem statement:\n",
    "\n",
    "I am planning to analyze a dataset about student alcohol consumption. This dataset can be found [here](https://www.kaggle.com/uciml/student-alcohol-consumption). I am planning to do this analysis to learn more about whether extrinsic factors can contribute to alcohol use in students. Also, it would be interesting to see if there is a coorelation between alcohol consumption and grades. I think it could be interesting to see if there is any significant coorelation between urban and rural students with alcohol use.\n",
    "\n",
    "From a human-centered perspective I think it can be a bit dangerous to find a coorelation between alcohol use and grades, if it falls into the wrong hands. I think that if people find a coorelation for example that students living in more rural areas are more likely to drink, and then get poor grades, there can be some biases held against students from more rural areas. \n",
    "\n",
    "My goal for this project is to explore how extrinsic factors like sex, family size, mother and father's job, and internet access could influence alcohol consumption in students. I also want to see if there is significant coorelation between excessive alcohol usage with some of these variables. This can inform people on factors that might be damaging towards student health and performance. People would then be able to work towards alleviating those negative influences. For example, if high travel time is associated with more alcohol usuage, cities could try to make schools more accessible to students by improving transportation or adding more schools to improve proximity to students. Same goes for factors that seem to decrease alcohol usage and improve performance. If more extra curricular activies are better for students, schools could try to make these more accessible to students by lowering the cost barrier to participate and encouraging students more. I also hope to practice data wrangling and visualization with this project.\n",
    "\n",
    "## Data selected for analysis: What dataset do you plan to use, and why? \n",
    "The dataset contains a survey of students from math and portuguese language courses in two Portuguese secondary schools (high school in the US). \n",
    "The dataset contains the following columns:\n",
    "* school - student's school (binary: 'GP' - Gabriel Pereira or 'MS' - Mousinho da Silveira)\n",
    "* sex - student's sex (binary: 'F' - female or 'M' - male)\n",
    "* age - student's age (numeric: from 15 to 22)\n",
    "* address - student's home address type (binary: 'U' - urban or 'R' - rural)\n",
    "* famsize - family size (binary: 'LE3' - less or equal to 3 or 'GT3' - greater than 3)\n",
    "* Pstatus - parent's cohabitation status (binary: 'T' - living together or 'A' - apart)\n",
    "* Medu - mother's education (numeric: 0 - none, 1 - primary education (4th grade), 2 – 5th to 9th grade, 3 – secondary education or 4 – higher education)\n",
    "* Fedu - father's education (numeric: 0 - none, 1 - primary education (4th grade), 2 – 5th to 9th grade, 3 – secondary education or 4 – higher education)\n",
    "* Mjob - mother's job (nominal: 'teacher', 'health' care related, civil 'services' (e.g. administrative or police), 'at_home' or 'other')\n",
    "* Fjob - father's job (nominal: 'teacher', 'health' care related, civil 'services' (e.g. administrative or police), 'at_home' or 'other')\n",
    "* reason - reason to choose this school (nominal: close to 'home', school 'reputation', 'course' preference or 'other')\n",
    "* guardian - student's guardian (nominal: 'mother', 'father' or 'other')\n",
    "* traveltime - home to school travel time (numeric: 1 - 1 hour)\n",
    "* studytime - weekly study time (numeric: 1 - 10 hours)\n",
    "* failures - number of past class failures (numeric: n if 1<=n<3, else 4)\n",
    "* schoolsup - extra educational support (binary: yes or no)\n",
    "* famsup - family educational support (binary: yes or no)\n",
    "* paid - extra paid classes within the course subject (Math or Portuguese) (binary: yes or no)\n",
    "* activities - extra-curricular activities (binary: yes or no)\n",
    "* nursery - attended nursery school (binary: yes or no)\n",
    "* higher - wants to take higher education (binary: yes or no)\n",
    "* internet - Internet access at home (binary: yes or no)\n",
    "* romantic - with a romantic relationship (binary: yes or no)\n",
    "* famrel - quality of family relationships (numeric: from 1 - very bad to 5 - excellent)\n",
    "* freetime - free time after school (numeric: from 1 - very low to 5 - very high)\n",
    "* goout - going out with friends (numeric: from 1 - very low to 5 - very high)\n",
    "* Dalc - workday alcohol consumption (numeric: from 1 - very low to 5 - very high)\n",
    "* Walc - weekend alcohol consumption (numeric: from 1 - very low to 5 - very high)\n",
    "* health - current health status (numeric: from 1 - very bad to 5 - very good)\n",
    "* absences - number of school absences (numeric: from 0 to 93)\n",
    "\n",
    "**GRADES columns:**\n",
    "\n",
    "* G1 - first period grade (numeric: from 0 to 20)\n",
    "* G2 - second period grade (numeric: from 0 to 20)\n",
    "* G3 - final grade (numeric: from 0 to 20, output target)\n",
    "\n",
    "### Dataset Access and Licensing\n",
    "* The dataset can be found and downloaded [here](https://www.kaggle.com/uciml/student-alcohol-consumption).\n",
    "* The source paper for the data can be explored [here](http://www3.dsi.uminho.pt/pcortez/student.pdf)\n",
    "* The data has a **CC0: Public Domain License**\n",
    "* The schools and students voluntarily participated in the original study. \n",
    "\n",
    "This dataset is suitable for my goals becuase it is a publically available dataset that has collected a lot of information about student demographics and their alcohol usage. As stated above one ethical consideration about using this dataset is that there is a chance that people could use the datset to back up claims about students with malicious intent, causing others to hold biases against certain groups of students. Another thing to keep in mind is that in the original study, I believe the intent of using this dataset was to see if people could predict what a student's performace would be in order to \"enhancing school resource management.\" It may not be  appropriate to try to predict how well a student will do just based on their home life and other factors like sex and parent education. Another bias that might be in the data is that the data was only collected from two schools in one region in Portugual, which could have some representation bias, especially if people are trying to use this data to model or draw conclusions about students in other countries\n",
    "\n",
    "## Unknowns and dependencies: \n",
    "\n",
    "I think I should be able to finish the project in time. I am getting my second shot next Tuesday, so I might turn in my Final Project plan a little late if I get bad side effects(since it due that Wednesday), but I will try to work on it earlier. I may be going back home to visit my grandma due to some health problems in late May, but I should be able to finish the project.\n"
   ]
  }
 ],
 "metadata": {
  "kernelspec": {
   "display_name": "Python 3",
   "language": "python",
   "name": "python3"
  },
  "language_info": {
   "codemirror_mode": {
    "name": "ipython",
    "version": 3
   },
   "file_extension": ".py",
   "mimetype": "text/x-python",
   "name": "python",
   "nbconvert_exporter": "python",
   "pygments_lexer": "ipython3",
   "version": "3.8.8"
  }
 },
 "nbformat": 4,
 "nbformat_minor": 5
}
