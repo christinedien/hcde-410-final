{
 "cells": [
  {
   "cell_type": "markdown",
   "id": "cbf887d8-981f-4b59-8d68-9bb8d0d9dee5",
   "metadata": {},
   "source": [
    "# Project Proposal"
   ]
  },
  {
   "cell_type": "markdown",
   "id": "c7c01d4c-b06d-4027-88cc-c7f7a04c114a",
   "metadata": {
    "tags": []
   },
   "source": [
    "## Introduction and Motivation\n",
    "\n",
    "I am planning to analyze a dataset about student alcohol consumption. This dataset can be found [here](https://www.kaggle.com/uciml/student-alcohol-consumption). I am planning to do this analysis to learn more about whether extrinsic factors can contribute to alcohol use in students. Also, it would be interesting to see if there is a coorelation between alcohol consumption and grades. I think it could be interesting to see if there is any significant coorelation between urban and rural students with alcohol use.\n",
    "\n",
    "From a human-centered perspective I think it can be a bit dangerous to find a coorelation between alcohol use and grades, if it falls into the wrong hands. I think that if people find a coorelation for example that students living in more rural areas are more likely to drink, and then get poor grades, there can be some biases held against students from more rural areas. \n",
    "\n",
    "My goal for this project is to explore how extrinsic factors like sex, family size, mother and father's job, and internet access could influence alcohol consumption in students. I also want to see if there is significant coorelation between excessive alcohol usage with some of these variables. This can inform people on factors that might be damaging towards student health and performance. People would then be able to work towards alleviating those negative influences. For example, if high travel time is associated with more alcohol usuage, cities could try to make schools more accessible to students by improving transportation or adding more schools to improve proximity to students. Same goes for factors that seem to decrease alcohol usage and improve performance. If more extra curricular activies are better for students, schools could try to make these more accessible to students by lowering the cost barrier to participate and encouraging students more. I also hope to practice data wrangling and visualization with this project."
   ]
  },
  {
   "cell_type": "markdown",
   "id": "f6f6c6ae-2993-48f5-9184-21ea808406fe",
   "metadata": {
    "tags": []
   },
   "source": [
    "## Background and/or Related Work:\n",
    "I wanted to look at students and drinking in a variety of countries. The dataset represents Portuguese students. In an overview, Rehm et al, 2003 compared alcohol comsumption in people age 15 and older around the world using the WHO data. They had the following conclusions:\n",
    "- Average alcohol consumption was highest in Europe, the Americas, and established market economies such as Australia, Japan, and New Zealand, although there were exceptions (e.g., the Muslim countries of the former Soviet Union and Yugoslavia and the least developed countries in South and Central America).\n",
    "- Average alcohol consumption generally was lower in Africa and Asia.\n",
    "- Alcohol consumption was particularly low in the Muslim countries in the eastern Mediterranean region and on the Indian subcontinent.\n",
    "The aboved mentioned study and others can be found at this [review paper](https://www.ncbi.nlm.nih.gov/pmc/articles/PMC6601676/)\n",
    "\n",
    "\n",
    "### United States:\n",
    "- There have been many studies looking into what causes a higher influence for students to engage in drinking or binge drinking. For example, in the US, drinking alcohol is so prevalent amongst college students. In a national survey, almost 53% of full-time college students ages 18 to 22 drank alcohol in the past month. About 33% engaged in binge drinking during that same time frame [[1].](https://www.samhsa.gov/data/sites/default/files/reports/rpt29394/NSDUHDetailedTabs2019/NSDUHDetTabsSect6pe2019.htm#tab6-21b)\n",
    "\n",
    "- For college students in the US, there are trends that associate living in denser living arrangements with other college peers, such fraternities and sororities, with higher rates of alcohol consumption. Non-college peers have a lower rate of drinking, as well as college peers who live with thier families. It is thought that factors like the availabilty of alcohol, the drinking culture on college campuses, and the inconsistent enforcement of underage drinking laws all attribute to heavy drinking in college students. This is especially true of the first few months of someone's college experience [[2].](https://www.niaaa.nih.gov/publications/brochures-and-fact-sheets/college-drinking)\n",
    "\n",
    "\n",
    "### New Zealand\n",
    "\n",
    "On this [website](https://www.alcohol.org.nz/help-advice/advice-on-alcohol/for-parents/factors-that-influence-young-peoples-drinking), they found the following factors to be influential towards teenage drinking:\n",
    "* early introduction to alcohol\n",
    "* exposure to adult binge drinking or alcohol dependence\n",
    "* access to alcohol from parents and others\n",
    "* friends who drink heavily\n",
    "* New Zealand’s drinking culture\n",
    "* access to cheap alcohol\n",
    "* alcohol marketing\n",
    "* parental relationships and attitudes to alcohol\n",
    "* truancy\n",
    "* poor educational achievement and school relationships\n",
    "* money to spend\n",
    "* conflict or bullying\n",
    "* long periods of unsupervised time."
   ]
  },
  {
   "cell_type": "markdown",
   "id": "c0bce2ab-971d-4259-b726-3503e7ab328e",
   "metadata": {},
   "source": [
    "## Research questions: \n",
    "- How do extrinsic factors like sex, family size, mother and father's job, and internet access could influence alcohol consumption in students?\n",
    "- How are grades coorelated with different factors collected about the students and their home life?\n",
    "\n",
    "## Hypothesis:\n",
    "- I think there will be a negative correlation between extracurricular activites and alcohol consumption\n",
    "- If the family relationship is higher, I think the alcohol consumption will be less\n",
    "- I also think there will be less alcohol consumption if the student's parents are together vs apart"
   ]
  },
  {
   "cell_type": "markdown",
   "id": "08b71f5a-2857-4f5a-8da9-c3288c14d5d1",
   "metadata": {},
   "source": [
    "## Data selected for analysis: What dataset do you plan to use, and why? \n",
    "The dataset contains a survey of students from math and portuguese language courses in two Portuguese secondary schools (high school in the US). \n",
    "The dataset contains the following columns:\n",
    "* school - student's school (binary: 'GP' - Gabriel Pereira or 'MS' - Mousinho da Silveira)\n",
    "* sex - student's sex (binary: 'F' - female or 'M' - male)\n",
    "* age - student's age (numeric: from 15 to 22)\n",
    "* address - student's home address type (binary: 'U' - urban or 'R' - rural)\n",
    "* famsize - family size (binary: 'LE3' - less or equal to 3 or 'GT3' - greater than 3)\n",
    "* Pstatus - parent's cohabitation status (binary: 'T' - living together or 'A' - apart)\n",
    "* Medu - mother's education (numeric: 0 - none, 1 - primary education (4th grade), 2 – 5th to 9th grade, 3 – secondary education or 4 – higher education)\n",
    "* Fedu - father's education (numeric: 0 - none, 1 - primary education (4th grade), 2 – 5th to 9th grade, 3 – secondary education or 4 – higher education)\n",
    "* Mjob - mother's job (nominal: 'teacher', 'health' care related, civil 'services' (e.g. administrative or police), 'at_home' or 'other')\n",
    "* Fjob - father's job (nominal: 'teacher', 'health' care related, civil 'services' (e.g. administrative or police), 'at_home' or 'other')\n",
    "* reason - reason to choose this school (nominal: close to 'home', school 'reputation', 'course' preference or 'other')\n",
    "* guardian - student's guardian (nominal: 'mother', 'father' or 'other')\n",
    "* traveltime - home to school travel time (numeric: 1 - 1 hour)\n",
    "* studytime - weekly study time (numeric: 1 - 10 hours)\n",
    "* failures - number of past class failures (numeric: n if 1<=n<3, else 4)\n",
    "* schoolsup - extra educational support (binary: yes or no)\n",
    "* famsup - family educational support (binary: yes or no)\n",
    "* paid - extra paid classes within the course subject (Math or Portuguese) (binary: yes or no)\n",
    "* activities - extra-curricular activities (binary: yes or no)\n",
    "* nursery - attended nursery school (binary: yes or no)\n",
    "* higher - wants to take higher education (binary: yes or no)\n",
    "* internet - Internet access at home (binary: yes or no)\n",
    "* romantic - with a romantic relationship (binary: yes or no)\n",
    "* famrel - quality of family relationships (numeric: from 1 - very bad to 5 - excellent)\n",
    "* freetime - free time after school (numeric: from 1 - very low to 5 - very high)\n",
    "* goout - going out with friends (numeric: from 1 - very low to 5 - very high)\n",
    "* Dalc - workday alcohol consumption (numeric: from 1 - very low to 5 - very high)\n",
    "* Walc - weekend alcohol consumption (numeric: from 1 - very low to 5 - very high)\n",
    "* health - current health status (numeric: from 1 - very bad to 5 - very good)\n",
    "* absences - number of school absences (numeric: from 0 to 93)\n",
    "\n",
    "**GRADES columns:**\n",
    "\n",
    "* G1 - first period grade (numeric: from 0 to 20)\n",
    "* G2 - second period grade (numeric: from 0 to 20)\n",
    "* G3 - final grade (numeric: from 0 to 20, output target)\n",
    "\n",
    "### Dataset Access and Licensing\n",
    "* The dataset can be found and downloaded [here](https://www.kaggle.com/uciml/student-alcohol-consumption).\n",
    "* The source paper for the data can be explored [here](http://www3.dsi.uminho.pt/pcortez/student.pdf)\n",
    "* The data has a **CC0: Public Domain License**\n",
    "* The schools and students voluntarily participated in the original study. \n",
    "\n",
    "This dataset is suitable for my goals becuase it is a publically available dataset that has collected a lot of information about student demographics and their alcohol usage. As stated above one ethical consideration about using this dataset is that there is a chance that people could use the datset to back up claims about students with malicious intent, causing others to hold biases against certain groups of students. Another thing to keep in mind is that in the original study, I believe the intent of using this dataset was to see if people could predict what a student's performace would be in order to \"enhancing school resource management.\" It may not be  appropriate to try to predict how well a student will do just based on their home life and other factors like sex and parent education. Another bias that might be in the data is that the data was only collected from two schools in one region in Portugual, which could have some representation bias, especially if people are trying to use this data to model or draw conclusions about students in other countries"
   ]
  },
  {
   "cell_type": "markdown",
   "id": "1d276ed1-6382-476d-9798-1a3b79109970",
   "metadata": {},
   "source": [
    "## Unknowns and dependencies: \n",
    "(From A4)\n",
    "\n",
    "I think I should be able to finish the project in time. I am getting my second shot next Tuesday, so I might turn in my Final Project plan a little late if I get bad side effects(since it due that Wednesday), but I will try to work on it earlier. I may be going back home to visit my grandma due to some health problems in late May, but I should be able to finish the project."
   ]
  },
  {
   "cell_type": "markdown",
   "id": "71d2a2c4-abda-4ac2-a3c6-cd8c5bc98951",
   "metadata": {},
   "source": [
    "## Methodology: \n",
    "\n",
    "I will try to answer my questions with the following steps:\n",
    "\n",
    "1. Data cleaning and preparation\n",
    "    * ***NOTE:*** Since there is a chance of duplication of students between the two datasets (one from a math class and one from a Portuguese, I am going to perform all my analysis on the Portuguese class student dataset (since there are more students), but any of the same code can be run on either dataset (they have the same number and type of variables)\n",
    "    * Get rid of null data\n",
    "    * Do some exploratory visualization of the data to get familiar with its shape and content\n",
    "        * Scatter plots, bar charts, line plots\n",
    "    * Manipulate data into a workable format if necessary (maybe pivot)\n",
    "    * Subset dataframe if needed to answer specific questions.\n",
    "2. Check for biases:\n",
    "    * Missing data (this is previously being taken care of when getting rid of null values)\n",
    "    * Duplication bias\n",
    "        * Since trying to identify the students that might be the same in the math and the portuguese classes was difficult, and might have only been possible if done with arbitrary decisions, I am deciding to **not** combine the math and portuguese class student datasets.\n",
    "    * Underrepresentation bias\n",
    "        * What are the demographics of the students involved? Is there a good spread of all the different factors/combinations of factors?\n",
    "        \n",
    "3. Data analysis steps\n",
    "    * Find coorelation (make a coorelation matrix, maybe) between alcohol consumption and different factors\n",
    "    * Plot alcohol consumption against amount of study time?\n",
    "    * Find and plot the average alcohol consumption \n",
    "    * Plot how amount of free time changes with respect to amount of study time?\n",
    "    * Train a basic regression model to try to predict the amount of alcohol consumption based on different factors\n",
    "    * Perform PCA to reduce the dimensionality of the dataset\n",
    "        * There are a lot of different values collected for each student. It would be nice to understand which factors are contributing the most to the variation in the dataset\n",
    "        \n",
    "4. Data Visualization steps:\n",
    "    * Scatter plots for depecting coorelation and relationships between two variables\n",
    "        * Scatterplots are really helpful to show positive, negative, or no coorelation between two continuous variables. Can take a lot of factors and\n",
    "    * Barplots to show demographics of students\n",
    "    * Heatmap to show alcohol consumption levels for different factors\n",
    "        * The color would likely show amount of alcohol\n",
    "        * Each row could be a different variable in the dataset like `studytime` or `freetime`\n",
    "        * Along the x axis, each column will be a different student\n",
    "    * PCA plot showing PC1 and PC2 for the dataset\n",
    "        * A nice two-dimensional view of the dataset while still considering all the dimensions collected"
   ]
  },
  {
   "cell_type": "markdown",
   "id": "46a1c447-62ec-4890-8d92-51195f121323",
   "metadata": {},
   "source": [
    "## Findings \n",
    "This section will include the code that gets those findings!"
   ]
  },
  {
   "cell_type": "markdown",
   "id": "3528ca8b-5f4c-4d3e-973f-a92694b2fd3e",
   "metadata": {},
   "source": [
    "To begin this section, I will first need to import the python libraries that will help me answer my questions:"
   ]
  },
  {
   "cell_type": "code",
   "execution_count": 2,
   "id": "1e622f2d-a1c0-4fc2-bf1f-873c9c29c7ba",
   "metadata": {},
   "outputs": [],
   "source": [
    "import numpy as np\n",
    "import pandas as pd\n",
    "import matplotlib.pyplot as plt\n",
    "import seaborn as sns\n",
    "\n",
    "%matplotlib inline"
   ]
  },
  {
   "cell_type": "markdown",
   "id": "8f61c22f-9a88-4996-8d65-b7b00a84a0f9",
   "metadata": {},
   "source": [
    "The following cell reads in both datasets as pandas DataFrames. I will be plotting only from the Portuguese course dataset, but if wanted could be easily switched to plot things form the Math course dataset. A summary of each DataFrame and its shape will be shown in the cell after the datasets are loaded in:"
   ]
  },
  {
   "cell_type": "code",
   "execution_count": 30,
   "id": "4da95fcd-c201-4a48-b113-fb2db0f307f8",
   "metadata": {},
   "outputs": [],
   "source": [
    "math_dat = pd.read_csv('student-mat.csv')\n",
    "port_dat = pd.read_csv('student-por.csv')"
   ]
  },
  {
   "cell_type": "code",
   "execution_count": 31,
   "id": "ca44abfa-4961-4ed9-b699-e9d64c869670",
   "metadata": {},
   "outputs": [
    {
     "name": "stdout",
     "output_type": "stream",
     "text": [
      "Math Course DataFrame Shape:  (395, 33)\n"
     ]
    },
    {
     "data": {
      "text/html": [
       "<div>\n",
       "<style scoped>\n",
       "    .dataframe tbody tr th:only-of-type {\n",
       "        vertical-align: middle;\n",
       "    }\n",
       "\n",
       "    .dataframe tbody tr th {\n",
       "        vertical-align: top;\n",
       "    }\n",
       "\n",
       "    .dataframe thead th {\n",
       "        text-align: right;\n",
       "    }\n",
       "</style>\n",
       "<table border=\"1\" class=\"dataframe\">\n",
       "  <thead>\n",
       "    <tr style=\"text-align: right;\">\n",
       "      <th></th>\n",
       "      <th>school</th>\n",
       "      <th>sex</th>\n",
       "      <th>age</th>\n",
       "      <th>address</th>\n",
       "      <th>famsize</th>\n",
       "      <th>Pstatus</th>\n",
       "      <th>Medu</th>\n",
       "      <th>Fedu</th>\n",
       "      <th>Mjob</th>\n",
       "      <th>Fjob</th>\n",
       "      <th>...</th>\n",
       "      <th>famrel</th>\n",
       "      <th>freetime</th>\n",
       "      <th>goout</th>\n",
       "      <th>Dalc</th>\n",
       "      <th>Walc</th>\n",
       "      <th>health</th>\n",
       "      <th>absences</th>\n",
       "      <th>G1</th>\n",
       "      <th>G2</th>\n",
       "      <th>G3</th>\n",
       "    </tr>\n",
       "  </thead>\n",
       "  <tbody>\n",
       "    <tr>\n",
       "      <th>0</th>\n",
       "      <td>GP</td>\n",
       "      <td>F</td>\n",
       "      <td>18</td>\n",
       "      <td>U</td>\n",
       "      <td>GT3</td>\n",
       "      <td>A</td>\n",
       "      <td>4</td>\n",
       "      <td>4</td>\n",
       "      <td>at_home</td>\n",
       "      <td>teacher</td>\n",
       "      <td>...</td>\n",
       "      <td>4</td>\n",
       "      <td>3</td>\n",
       "      <td>4</td>\n",
       "      <td>1</td>\n",
       "      <td>1</td>\n",
       "      <td>3</td>\n",
       "      <td>6</td>\n",
       "      <td>5</td>\n",
       "      <td>6</td>\n",
       "      <td>6</td>\n",
       "    </tr>\n",
       "    <tr>\n",
       "      <th>1</th>\n",
       "      <td>GP</td>\n",
       "      <td>F</td>\n",
       "      <td>17</td>\n",
       "      <td>U</td>\n",
       "      <td>GT3</td>\n",
       "      <td>T</td>\n",
       "      <td>1</td>\n",
       "      <td>1</td>\n",
       "      <td>at_home</td>\n",
       "      <td>other</td>\n",
       "      <td>...</td>\n",
       "      <td>5</td>\n",
       "      <td>3</td>\n",
       "      <td>3</td>\n",
       "      <td>1</td>\n",
       "      <td>1</td>\n",
       "      <td>3</td>\n",
       "      <td>4</td>\n",
       "      <td>5</td>\n",
       "      <td>5</td>\n",
       "      <td>6</td>\n",
       "    </tr>\n",
       "    <tr>\n",
       "      <th>2</th>\n",
       "      <td>GP</td>\n",
       "      <td>F</td>\n",
       "      <td>15</td>\n",
       "      <td>U</td>\n",
       "      <td>LE3</td>\n",
       "      <td>T</td>\n",
       "      <td>1</td>\n",
       "      <td>1</td>\n",
       "      <td>at_home</td>\n",
       "      <td>other</td>\n",
       "      <td>...</td>\n",
       "      <td>4</td>\n",
       "      <td>3</td>\n",
       "      <td>2</td>\n",
       "      <td>2</td>\n",
       "      <td>3</td>\n",
       "      <td>3</td>\n",
       "      <td>10</td>\n",
       "      <td>7</td>\n",
       "      <td>8</td>\n",
       "      <td>10</td>\n",
       "    </tr>\n",
       "    <tr>\n",
       "      <th>3</th>\n",
       "      <td>GP</td>\n",
       "      <td>F</td>\n",
       "      <td>15</td>\n",
       "      <td>U</td>\n",
       "      <td>GT3</td>\n",
       "      <td>T</td>\n",
       "      <td>4</td>\n",
       "      <td>2</td>\n",
       "      <td>health</td>\n",
       "      <td>services</td>\n",
       "      <td>...</td>\n",
       "      <td>3</td>\n",
       "      <td>2</td>\n",
       "      <td>2</td>\n",
       "      <td>1</td>\n",
       "      <td>1</td>\n",
       "      <td>5</td>\n",
       "      <td>2</td>\n",
       "      <td>15</td>\n",
       "      <td>14</td>\n",
       "      <td>15</td>\n",
       "    </tr>\n",
       "    <tr>\n",
       "      <th>4</th>\n",
       "      <td>GP</td>\n",
       "      <td>F</td>\n",
       "      <td>16</td>\n",
       "      <td>U</td>\n",
       "      <td>GT3</td>\n",
       "      <td>T</td>\n",
       "      <td>3</td>\n",
       "      <td>3</td>\n",
       "      <td>other</td>\n",
       "      <td>other</td>\n",
       "      <td>...</td>\n",
       "      <td>4</td>\n",
       "      <td>3</td>\n",
       "      <td>2</td>\n",
       "      <td>1</td>\n",
       "      <td>2</td>\n",
       "      <td>5</td>\n",
       "      <td>4</td>\n",
       "      <td>6</td>\n",
       "      <td>10</td>\n",
       "      <td>10</td>\n",
       "    </tr>\n",
       "  </tbody>\n",
       "</table>\n",
       "<p>5 rows × 33 columns</p>\n",
       "</div>"
      ],
      "text/plain": [
       "  school sex  age address famsize Pstatus  Medu  Fedu     Mjob      Fjob  ...  \\\n",
       "0     GP   F   18       U     GT3       A     4     4  at_home   teacher  ...   \n",
       "1     GP   F   17       U     GT3       T     1     1  at_home     other  ...   \n",
       "2     GP   F   15       U     LE3       T     1     1  at_home     other  ...   \n",
       "3     GP   F   15       U     GT3       T     4     2   health  services  ...   \n",
       "4     GP   F   16       U     GT3       T     3     3    other     other  ...   \n",
       "\n",
       "  famrel freetime  goout  Dalc  Walc health absences  G1  G2  G3  \n",
       "0      4        3      4     1     1      3        6   5   6   6  \n",
       "1      5        3      3     1     1      3        4   5   5   6  \n",
       "2      4        3      2     2     3      3       10   7   8  10  \n",
       "3      3        2      2     1     1      5        2  15  14  15  \n",
       "4      4        3      2     1     2      5        4   6  10  10  \n",
       "\n",
       "[5 rows x 33 columns]"
      ]
     },
     "execution_count": 31,
     "metadata": {},
     "output_type": "execute_result"
    }
   ],
   "source": [
    "print('Math Course DataFrame Shape: ', math_dat.shape)\n",
    "math_dat.head()"
   ]
  },
  {
   "cell_type": "code",
   "execution_count": 32,
   "id": "a813f3d5-6d32-4dd5-b5ef-3c9f26174e09",
   "metadata": {},
   "outputs": [
    {
     "name": "stdout",
     "output_type": "stream",
     "text": [
      "Portuguese Course DataFrame Shape:  (649, 30)\n"
     ]
    },
    {
     "data": {
      "text/html": [
       "<div>\n",
       "<style scoped>\n",
       "    .dataframe tbody tr th:only-of-type {\n",
       "        vertical-align: middle;\n",
       "    }\n",
       "\n",
       "    .dataframe tbody tr th {\n",
       "        vertical-align: top;\n",
       "    }\n",
       "\n",
       "    .dataframe thead th {\n",
       "        text-align: right;\n",
       "    }\n",
       "</style>\n",
       "<table border=\"1\" class=\"dataframe\">\n",
       "  <thead>\n",
       "    <tr style=\"text-align: right;\">\n",
       "      <th></th>\n",
       "      <th>school</th>\n",
       "      <th>sex</th>\n",
       "      <th>age</th>\n",
       "      <th>address</th>\n",
       "      <th>famsize</th>\n",
       "      <th>Pstatus</th>\n",
       "      <th>Medu</th>\n",
       "      <th>Fedu</th>\n",
       "      <th>Mjob</th>\n",
       "      <th>Fjob</th>\n",
       "      <th>...</th>\n",
       "      <th>famrel</th>\n",
       "      <th>freetime</th>\n",
       "      <th>goout</th>\n",
       "      <th>Dalc</th>\n",
       "      <th>Walc</th>\n",
       "      <th>health</th>\n",
       "      <th>absences</th>\n",
       "      <th>G1</th>\n",
       "      <th>G2</th>\n",
       "      <th>G3</th>\n",
       "    </tr>\n",
       "  </thead>\n",
       "  <tbody>\n",
       "    <tr>\n",
       "      <th>0</th>\n",
       "      <td>GP</td>\n",
       "      <td>F</td>\n",
       "      <td>18</td>\n",
       "      <td>U</td>\n",
       "      <td>GT3</td>\n",
       "      <td>A</td>\n",
       "      <td>4</td>\n",
       "      <td>4</td>\n",
       "      <td>at_home</td>\n",
       "      <td>teacher</td>\n",
       "      <td>...</td>\n",
       "      <td>4</td>\n",
       "      <td>3</td>\n",
       "      <td>4</td>\n",
       "      <td>1</td>\n",
       "      <td>1</td>\n",
       "      <td>3</td>\n",
       "      <td>4</td>\n",
       "      <td>0</td>\n",
       "      <td>11</td>\n",
       "      <td>11</td>\n",
       "    </tr>\n",
       "    <tr>\n",
       "      <th>1</th>\n",
       "      <td>GP</td>\n",
       "      <td>F</td>\n",
       "      <td>17</td>\n",
       "      <td>U</td>\n",
       "      <td>GT3</td>\n",
       "      <td>T</td>\n",
       "      <td>1</td>\n",
       "      <td>1</td>\n",
       "      <td>at_home</td>\n",
       "      <td>other</td>\n",
       "      <td>...</td>\n",
       "      <td>5</td>\n",
       "      <td>3</td>\n",
       "      <td>3</td>\n",
       "      <td>1</td>\n",
       "      <td>1</td>\n",
       "      <td>3</td>\n",
       "      <td>2</td>\n",
       "      <td>9</td>\n",
       "      <td>11</td>\n",
       "      <td>11</td>\n",
       "    </tr>\n",
       "    <tr>\n",
       "      <th>2</th>\n",
       "      <td>GP</td>\n",
       "      <td>F</td>\n",
       "      <td>15</td>\n",
       "      <td>U</td>\n",
       "      <td>LE3</td>\n",
       "      <td>T</td>\n",
       "      <td>1</td>\n",
       "      <td>1</td>\n",
       "      <td>at_home</td>\n",
       "      <td>other</td>\n",
       "      <td>...</td>\n",
       "      <td>4</td>\n",
       "      <td>3</td>\n",
       "      <td>2</td>\n",
       "      <td>2</td>\n",
       "      <td>3</td>\n",
       "      <td>3</td>\n",
       "      <td>6</td>\n",
       "      <td>12</td>\n",
       "      <td>13</td>\n",
       "      <td>12</td>\n",
       "    </tr>\n",
       "    <tr>\n",
       "      <th>3</th>\n",
       "      <td>GP</td>\n",
       "      <td>F</td>\n",
       "      <td>15</td>\n",
       "      <td>U</td>\n",
       "      <td>GT3</td>\n",
       "      <td>T</td>\n",
       "      <td>4</td>\n",
       "      <td>2</td>\n",
       "      <td>health</td>\n",
       "      <td>services</td>\n",
       "      <td>...</td>\n",
       "      <td>3</td>\n",
       "      <td>2</td>\n",
       "      <td>2</td>\n",
       "      <td>1</td>\n",
       "      <td>1</td>\n",
       "      <td>5</td>\n",
       "      <td>0</td>\n",
       "      <td>14</td>\n",
       "      <td>14</td>\n",
       "      <td>14</td>\n",
       "    </tr>\n",
       "    <tr>\n",
       "      <th>4</th>\n",
       "      <td>GP</td>\n",
       "      <td>F</td>\n",
       "      <td>16</td>\n",
       "      <td>U</td>\n",
       "      <td>GT3</td>\n",
       "      <td>T</td>\n",
       "      <td>3</td>\n",
       "      <td>3</td>\n",
       "      <td>other</td>\n",
       "      <td>other</td>\n",
       "      <td>...</td>\n",
       "      <td>4</td>\n",
       "      <td>3</td>\n",
       "      <td>2</td>\n",
       "      <td>1</td>\n",
       "      <td>2</td>\n",
       "      <td>5</td>\n",
       "      <td>0</td>\n",
       "      <td>11</td>\n",
       "      <td>13</td>\n",
       "      <td>13</td>\n",
       "    </tr>\n",
       "  </tbody>\n",
       "</table>\n",
       "<p>5 rows × 33 columns</p>\n",
       "</div>"
      ],
      "text/plain": [
       "  school sex  age address famsize Pstatus  Medu  Fedu     Mjob      Fjob  ...  \\\n",
       "0     GP   F   18       U     GT3       A     4     4  at_home   teacher  ...   \n",
       "1     GP   F   17       U     GT3       T     1     1  at_home     other  ...   \n",
       "2     GP   F   15       U     LE3       T     1     1  at_home     other  ...   \n",
       "3     GP   F   15       U     GT3       T     4     2   health  services  ...   \n",
       "4     GP   F   16       U     GT3       T     3     3    other     other  ...   \n",
       "\n",
       "  famrel freetime  goout  Dalc  Walc health absences  G1  G2  G3  \n",
       "0      4        3      4     1     1      3        4   0  11  11  \n",
       "1      5        3      3     1     1      3        2   9  11  11  \n",
       "2      4        3      2     2     3      3        6  12  13  12  \n",
       "3      3        2      2     1     1      5        0  14  14  14  \n",
       "4      4        3      2     1     2      5        0  11  13  13  \n",
       "\n",
       "[5 rows x 33 columns]"
      ]
     },
     "execution_count": 32,
     "metadata": {},
     "output_type": "execute_result"
    }
   ],
   "source": [
    "print('Portuguese Course DataFrame Shape: ', por_dat.shape)\n",
    "port_dat.head()"
   ]
  },
  {
   "cell_type": "markdown",
   "id": "5b3dedae-c4f9-41b9-8c5b-f315955bc65f",
   "metadata": {},
   "source": [
    "Since I do not want try to predict grades of students based on their home life and alcohol consumption, due to ethical reasons, I am dropping the last three columns (G1, G2, and G3), which represents three of the students' grades. As a sanitity check, I will print the shapes of each dataset after dropping those columns:"
   ]
  },
  {
   "cell_type": "code",
   "execution_count": 33,
   "id": "13bd5919-6e98-4601-a5d0-dc31a19e08ef",
   "metadata": {},
   "outputs": [
    {
     "name": "stdout",
     "output_type": "stream",
     "text": [
      "Math class shape:  (395, 30)\n",
      "\n",
      "Portuguese class shape:  (649, 30)\n",
      "\n"
     ]
    }
   ],
   "source": [
    "math_dat = math_dat.drop(columns=['G1', 'G2', 'G3'])\n",
    "print('Math class shape: ', math_dat.shape)\n",
    "print()\n",
    "port_dat = port_dat.drop(columns=['G1', 'G2', 'G3'])\n",
    "print('Portuguese class shape: ', port_dat.shape)\n",
    "print()"
   ]
  },
  {
   "cell_type": "markdown",
   "id": "f56e3d56-cefc-4ce2-adbc-b258a7e7c458",
   "metadata": {},
   "source": [
    "Great, we see the shape changed from 33 to 30. The next cell will get rid of null values to try to reduce the amount of missing data bias, again printing shape afterwards:"
   ]
  },
  {
   "cell_type": "code",
   "execution_count": 35,
   "id": "04232afd-f4e7-4b89-9285-90045bcbbf32",
   "metadata": {},
   "outputs": [
    {
     "name": "stdout",
     "output_type": "stream",
     "text": [
      "Math class shape:  (395, 30)\n",
      "\n",
      "Portuguese class shape:  (649, 30)\n"
     ]
    }
   ],
   "source": [
    "math_dat = math_dat.dropna()\n",
    "print('Math class shape: ', math_dat.shape)\n",
    "print()\n",
    "port_dat = port_dat.dropna()\n",
    "print('Portuguese class shape: ', port_dat.shape)"
   ]
  },
  {
   "cell_type": "markdown",
   "id": "5ac68648-621d-4b9c-8b8a-be94745fcdf1",
   "metadata": {},
   "source": [
    "Since the data shape didn't change, then we know that no rows contained any missing values!"
   ]
  },
  {
   "cell_type": "markdown",
   "id": "9a5ece8b-1527-4570-a451-8a18dee7a953",
   "metadata": {},
   "source": [
    "**NOTE:** The following cell will establish what dataset the rest of the analysis and visualization will be from. By default it will be the `port_dat` DataFrame. You can always change it to be the `math_dat` DataFrame"
   ]
  },
  {
   "cell_type": "code",
   "execution_count": 45,
   "id": "e22b71ac-3b10-4d1a-a05f-e85dc59b8a92",
   "metadata": {},
   "outputs": [],
   "source": [
    "df = port_dat"
   ]
  },
  {
   "cell_type": "markdown",
   "id": "b1a5b7d6-3125-4b41-9a9f-6280490c8411",
   "metadata": {},
   "source": [
    "### Finding 1: What are the demographics of the students?\n",
    "As a reminder, in the Portuguese course dataset, there are 649 students. The following plots show the distribution of the sex and age of the students involved in the study:"
   ]
  },
  {
   "cell_type": "code",
   "execution_count": 51,
   "id": "452f6a82-88b2-484e-9fa9-d2cf800d975b",
   "metadata": {},
   "outputs": [
    {
     "data": {
      "image/png": "[encoded data removed]",
      "text/plain": [
       "<Figure size 432x288 with 1 Axes>"
      ]
     },
     "metadata": {
      "needs_background": "light"
     },
     "output_type": "display_data"
    }
   ],
   "source": [
    "sns.countplot(data=df, x='sex', color='darkseagreen')\n",
    "plt.title('Distribution of Sex Among Students')\n",
    "plt.xlabel('Sex')\n",
    "plt.ylabel('Number of Students')\n",
    "plt.savefig('Student_sex_dist.png')\n",
    "plt.show()"
   ]
  },
  {
   "cell_type": "markdown",
   "id": "49c0c8e8-8a6b-48cc-8aa8-fd6ed1a6cdc7",
   "metadata": {},
   "source": [
    "For clarity, the following table shows the same information:"
   ]
  },
  {
   "cell_type": "code",
   "execution_count": 54,
   "id": "30d7d64f-41af-4252-b221-85bbfe741453",
   "metadata": {},
   "outputs": [
    {
     "data": {
      "text/html": [
       "<div>\n",
       "<style scoped>\n",
       "    .dataframe tbody tr th:only-of-type {\n",
       "        vertical-align: middle;\n",
       "    }\n",
       "\n",
       "    .dataframe tbody tr th {\n",
       "        vertical-align: top;\n",
       "    }\n",
       "\n",
       "    .dataframe thead th {\n",
       "        text-align: right;\n",
       "    }\n",
       "</style>\n",
       "<table border=\"1\" class=\"dataframe\">\n",
       "  <thead>\n",
       "    <tr style=\"text-align: right;\">\n",
       "      <th></th>\n",
       "      <th>sex</th>\n",
       "    </tr>\n",
       "  </thead>\n",
       "  <tbody>\n",
       "    <tr>\n",
       "      <th>F</th>\n",
       "      <td>383</td>\n",
       "    </tr>\n",
       "    <tr>\n",
       "      <th>M</th>\n",
       "      <td>266</td>\n",
       "    </tr>\n",
       "  </tbody>\n",
       "</table>\n",
       "</div>"
      ],
      "text/plain": [
       "   sex\n",
       "F  383\n",
       "M  266"
      ]
     },
     "execution_count": 54,
     "metadata": {},
     "output_type": "execute_result"
    }
   ],
   "source": [
    "df['sex'].value_counts().to_frame()"
   ]
  },
  {
   "cell_type": "code",
   "execution_count": 55,
   "id": "a5d23133-4490-47bc-834a-49463cbd8767",
   "metadata": {},
   "outputs": [
    {
     "data": {
      "image/png": "[encoded data removed]",
      "text/plain": [
       "<Figure size 432x288 with 1 Axes>"
      ]
     },
     "metadata": {
      "needs_background": "light"
     },
     "output_type": "display_data"
    }
   ],
   "source": [
    "sns.countplot(data=df, x='age', color='darksalmon')\n",
    "plt.title('Distribution of Age Among Students')\n",
    "plt.xlabel('Age')\n",
    "plt.ylabel('Number of Students')\n",
    "plt.savefig('Student_age_dist.png')\n",
    "plt.show()"
   ]
  },
  {
   "cell_type": "markdown",
   "id": "6c4e6e14-c758-4875-bae4-f6d6c4e59f6d",
   "metadata": {},
   "source": [
    "For clarity, the following table shows the same information:"
   ]
  },
  {
   "cell_type": "code",
   "execution_count": 56,
   "id": "e90ffaba-f7a8-4b1a-9750-d5862bc414dd",
   "metadata": {},
   "outputs": [
    {
     "data": {
      "text/html": [
       "<div>\n",
       "<style scoped>\n",
       "    .dataframe tbody tr th:only-of-type {\n",
       "        vertical-align: middle;\n",
       "    }\n",
       "\n",
       "    .dataframe tbody tr th {\n",
       "        vertical-align: top;\n",
       "    }\n",
       "\n",
       "    .dataframe thead th {\n",
       "        text-align: right;\n",
       "    }\n",
       "</style>\n",
       "<table border=\"1\" class=\"dataframe\">\n",
       "  <thead>\n",
       "    <tr style=\"text-align: right;\">\n",
       "      <th></th>\n",
       "      <th>age</th>\n",
       "    </tr>\n",
       "  </thead>\n",
       "  <tbody>\n",
       "    <tr>\n",
       "      <th>17</th>\n",
       "      <td>179</td>\n",
       "    </tr>\n",
       "    <tr>\n",
       "      <th>16</th>\n",
       "      <td>177</td>\n",
       "    </tr>\n",
       "    <tr>\n",
       "      <th>18</th>\n",
       "      <td>140</td>\n",
       "    </tr>\n",
       "    <tr>\n",
       "      <th>15</th>\n",
       "      <td>112</td>\n",
       "    </tr>\n",
       "    <tr>\n",
       "      <th>19</th>\n",
       "      <td>32</td>\n",
       "    </tr>\n",
       "    <tr>\n",
       "      <th>20</th>\n",
       "      <td>6</td>\n",
       "    </tr>\n",
       "    <tr>\n",
       "      <th>21</th>\n",
       "      <td>2</td>\n",
       "    </tr>\n",
       "    <tr>\n",
       "      <th>22</th>\n",
       "      <td>1</td>\n",
       "    </tr>\n",
       "  </tbody>\n",
       "</table>\n",
       "</div>"
      ],
      "text/plain": [
       "    age\n",
       "17  179\n",
       "16  177\n",
       "18  140\n",
       "15  112\n",
       "19   32\n",
       "20    6\n",
       "21    2\n",
       "22    1"
      ]
     },
     "execution_count": 56,
     "metadata": {},
     "output_type": "execute_result"
    }
   ],
   "source": [
    "df['age'].value_counts().to_frame()"
   ]
  },
  {
   "cell_type": "markdown",
   "id": "e9fcd54f-39cf-4360-9f34-ce7f4526aefa",
   "metadata": {},
   "source": [
    "#### Finding 1 Conclusion:\n",
    "In the Portuguese class dataset, the class has 383 females and 266 males. That is around 59% female and 41% male distribution. Since the population in Portugual has a sex ratio of 95 males for every 100 females, there is an over representation of females in this dataset. For a 649 person class, we would expect to see about 333 females and 316 males. \n",
    "\n",
    "For age, we see that most of the students are between the ages of 15 and 18, dropping off after that significantly. This makes sense since the data is from secondary schools in Portugual (like high school in the US)"
   ]
  },
  {
   "cell_type": "markdown",
   "id": "f37e91a6-e2f5-4918-83b6-155a76b2814c",
   "metadata": {},
   "source": [
    "## Discussion and Conclusion\n",
    "\n"
   ]
  },
  {
   "cell_type": "markdown",
   "id": "80156fe4-73bb-4b03-b7ea-96b86ba09261",
   "metadata": {},
   "source": [
    "## Resources/references:\n",
    "1. SAMHSA, Center for Behavioral Statistics and Quality. 2019 National Survey on Drug Use and Health. Table 6.21B—Types of Illicit Drug, Tobacco Product, and Alcohol Use in Past Month among Persons Aged 18 to 22, by College Enrollment Status and Gender: Percentages, 2018 and 2019. https://www.samhsa.gov/data/sites/default/files/reports/rpt29394/NSDUHDetailedTabs2019/NSDUHDetTabsSect6pe2019.htm#tab6-21b\n",
    "2. https://www.niaaa.nih.gov/publications/brochures-and-fact-sheets/college-drinking\n",
    "3. Rehm, J.; Rehn, N.; Monteiro, M.; et al. The global distribution of average volume of alcohol consumption and patterns of drinking. European Addiction Research 9:147–156, 2003. PMID: 12970583\n",
    "4. Ahlström, S. K., & Österberg, E. L. (2004). International Perspectives on Adolescent and Young Adult Drinking. Alcohol Research & Health, 28(4), 258–268.\n",
    "5. Borsari, B., & Carey, K. B. (2006). How the quality of peer relationships influences college alcohol use. Drug and alcohol review, 25(4), 361–370. https://doi.org/10.1080/09595230600741339\n",
    "6. https://www.verywellmind.com/underage-drinking-risk-factors-and-consequences-69483\n",
    "7. https://www.collegedrinkingprevention.gov/media/journal/040_090.pdf\n",
    "8. https://www.alcohol.org.nz/help-advice/advice-on-alcohol/for-parents/factors-that-influence-young-peoples-drinking"
   ]
  },
  {
   "cell_type": "code",
   "execution_count": null,
   "id": "803395ae-e337-4440-ad9b-65015e5f39d1",
   "metadata": {},
   "outputs": [],
   "source": []
  }
 ],
 "metadata": {
  "kernelspec": {
   "display_name": "Python 3",
   "language": "python",
   "name": "python3"
  },
  "language_info": {
   "codemirror_mode": {
    "name": "ipython",
    "version": 3
   },
   "file_extension": ".py",
   "mimetype": "text/x-python",
   "name": "python",
   "nbconvert_exporter": "python",
   "pygments_lexer": "ipython3",
   "version": "3.8.8"
  }
 },
 "nbformat": 4,
 "nbformat_minor": 5
}
